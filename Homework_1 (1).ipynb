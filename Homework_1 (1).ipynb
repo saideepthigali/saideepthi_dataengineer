{
 "cells": [
  {
   "cell_type": "code",
   "execution_count": 24,
   "id": "2beeb8de-e526-49fc-8849-41ffe82bd795",
   "metadata": {},
   "outputs": [],
   "source": [
    "import pandas as pd"
   ]
  },
  {
   "cell_type": "code",
   "execution_count": 25,
   "id": "6f734aa9-451c-4674-ac65-5e1c64b0de1d",
   "metadata": {},
   "outputs": [],
   "source": [
    "#function to calculate sum and average\n",
    "def sum_and_average(numbers):\n",
    "    if(len(numbers) == 0):\n",
    "        print('List is empty')\n",
    "    else:\n",
    "        sum_num = sum(numbers)\n",
    "        avg_num = sum_num/ len(numbers)\n",
    "        print(sum_num)\n",
    "        print(avg_num)\n",
    "\n",
    "\n",
    "\n",
    "    "
   ]
  },
  {
   "cell_type": "code",
   "execution_count": 26,
   "id": "d82884aa-c1e1-42a2-a7c2-3f46bf6b2dbe",
   "metadata": {},
   "outputs": [
    {
     "name": "stdout",
     "output_type": "stream",
     "text": [
      "150\n",
      "30.0\n"
     ]
    }
   ],
   "source": [
    "#calling a function\n",
    "numbers = [10,20,30,40,50]\n",
    "sum_and_average(numbers)\n"
   ]
  },
  {
   "cell_type": "code",
   "execution_count": 28,
   "id": "37ee444a-7818-49fe-9026-20557117e7ac",
   "metadata": {},
   "outputs": [],
   "source": [
    "def string_rev(name):\n",
    "    reverse_string = name[::-1]\n",
    "    return reverse_string\n",
    "\n"
   ]
  },
  {
   "cell_type": "code",
   "execution_count": 44,
   "id": "21dd72a5-c29d-480e-924b-a83709f88769",
   "metadata": {},
   "outputs": [],
   "source": [
    "name = ''\n",
    "rev_string = string_rev(name)"
   ]
  },
  {
   "cell_type": "code",
   "execution_count": 45,
   "id": "1d871d90-0792-42df-8e88-e5058a40f6b7",
   "metadata": {},
   "outputs": [
    {
     "name": "stdout",
     "output_type": "stream",
     "text": [
      "\n"
     ]
    }
   ],
   "source": [
    "print(rev_string)"
   ]
  },
  {
   "cell_type": "code",
   "execution_count": 34,
   "id": "d038c8d0-2e4b-42f4-8e03-f0151183fb7f",
   "metadata": {},
   "outputs": [],
   "source": [
    "def try_division(x,y):\n",
    "    try:\n",
    "        division = lambda x, y: x/y\n",
    "        print(division(x,y))\n",
    "    except ZeroDivisionError:\n",
    "        print(\"Zero Division Error\")\n",
    "    except TypeError:\n",
    "        print(\"Type Error\")\n",
    "    except exception as e:\n",
    "        print(\"Unexpected error occurred\")\n"
   ]
  },
  {
   "cell_type": "code",
   "execution_count": 35,
   "id": "caaedfe9-c315-440d-a8bd-bc17d16a7063",
   "metadata": {},
   "outputs": [
    {
     "name": "stdout",
     "output_type": "stream",
     "text": [
      "2.0\n"
     ]
    }
   ],
   "source": [
    "try_division(4,2)"
   ]
  },
  {
   "cell_type": "code",
   "execution_count": 36,
   "id": "7c4881e1-d23e-47fa-92bb-2e652be03fe5",
   "metadata": {},
   "outputs": [
    {
     "name": "stdout",
     "output_type": "stream",
     "text": [
      "Zero Division Error\n"
     ]
    }
   ],
   "source": [
    "try_division(4,0)"
   ]
  },
  {
   "cell_type": "code",
   "execution_count": 38,
   "id": "77529fd9-1eb7-438b-a7d5-c503a34081c3",
   "metadata": {},
   "outputs": [
    {
     "name": "stdout",
     "output_type": "stream",
     "text": [
      "Type Error\n"
     ]
    }
   ],
   "source": [
    "try_division('a',2)"
   ]
  },
  {
   "cell_type": "code",
   "execution_count": 40,
   "id": "e62164a1-2c5b-4cde-9fcf-aff19d21a749",
   "metadata": {},
   "outputs": [
    {
     "name": "stdout",
     "output_type": "stream",
     "text": [
      "Type Error\n"
     ]
    }
   ],
   "source": [
    "try_division(2,'4')"
   ]
  },
  {
   "cell_type": "code",
   "execution_count": 43,
   "id": "791ef523-0fee-4a6a-a9e5-f58b14b2cf17",
   "metadata": {},
   "outputs": [
    {
     "name": "stdout",
     "output_type": "stream",
     "text": [
      "0.0\n"
     ]
    }
   ],
   "source": [
    "try_division(0,4)"
   ]
  },
  {
   "cell_type": "code",
   "execution_count": null,
   "id": "71b556aa-e5fd-40d2-9eed-90edbd7692fc",
   "metadata": {},
   "outputs": [],
   "source": []
  }
 ],
 "metadata": {
  "kernelspec": {
   "display_name": "Python 3 (ipykernel)",
   "language": "python",
   "name": "python3"
  },
  "language_info": {
   "codemirror_mode": {
    "name": "ipython",
    "version": 3
   },
   "file_extension": ".py",
   "mimetype": "text/x-python",
   "name": "python",
   "nbconvert_exporter": "python",
   "pygments_lexer": "ipython3",
   "version": "3.12.3"
  }
 },
 "nbformat": 4,
 "nbformat_minor": 5
}
