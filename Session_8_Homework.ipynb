{
 "cells": [
  {
   "cell_type": "markdown",
   "id": "ed356162-dab2-45b4-a816-83050e487426",
   "metadata": {},
   "source": [
    "# Bronze Layer"
   ]
  },
  {
   "cell_type": "code",
   "execution_count": 27,
   "id": "54faa289-9c85-45f9-927f-70c6e3fedbd0",
   "metadata": {},
   "outputs": [
    {
     "name": "stdout",
     "output_type": "stream",
     "text": [
      "Duplicate entry found for order_id 1; skipping insertion.\n",
      "Duplicate entry found for order_id 2; skipping insertion.\n",
      "Duplicate entry found for order_id 3; skipping insertion.\n",
      "Duplicate entry found for order_id 4; skipping insertion.\n",
      "Duplicate entry found for order_id 5; skipping insertion.\n",
      "Duplicate entry found for order_id 6; skipping insertion.\n"
     ]
    }
   ],
   "source": [
    "import sqlite3\n",
    "\n",
    "# Sample data with a unique identifier (order_id)\n",
    "data = [\n",
    "    (1, 'C001', '2024-01-15', 250.50, 'completed'),\n",
    "    (2, 'C002', '2024-02-20', 145.00, 'completed'),\n",
    "    (3, 'C001', '2024-02-20', 300.00, 'pending'),\n",
    "    (4, 'C003', '2024-03-05', 500.00, 'completed'),\n",
    "    (5, 'C002', '2024-03-10', 200.00, 'cancelled'),\n",
    "    (6, 'C001', '2024-03-15', 275.00, 'completed')\n",
    "]\n",
    "\n",
    "# Connect to the SQLite database\n",
    "conn = sqlite3.connect('bronze_layer.db')\n",
    "cursor = conn.cursor()\n",
    "\n",
    "# Create the table with a primary key on `order_id`\n",
    "cursor.execute('''\n",
    "CREATE TABLE IF NOT EXISTS customer_order (\n",
    "    order_id INTEGER PRIMARY KEY,\n",
    "    customer_id TEXT,\n",
    "    order_date TEXT,\n",
    "    amount REAL,\n",
    "    status TEXT\n",
    ")\n",
    "''')\n",
    "\n",
    "for row in data:\n",
    "    try:\n",
    "        cursor.execute('INSERT INTO customer_order VALUES (?, ?, ?, ?, ?)', row)\n",
    "    except sqlite3.IntegrityError:\n",
    "        # Skip insertion if duplicate order_id is found\n",
    "        print(f\"Duplicate entry found for order_id {row[0]}; skipping insertion.\")\n",
    "\n",
    "# Commit the transaction and close the connection\n",
    "conn.commit()\n",
    "conn.close()\n",
    "\n"
   ]
  },
  {
   "cell_type": "code",
   "execution_count": 28,
   "id": "42b64eef-33bb-4f91-bff9-2ff752fbc7ff",
   "metadata": {},
   "outputs": [
    {
     "name": "stdout",
     "output_type": "stream",
     "text": [
      "(1, 'C001', '2024-01-15', 250.5, 'completed')\n",
      "(2, 'C002', '2024-02-20', 145.0, 'completed')\n",
      "(3, 'C001', '2024-02-20', 300.0, 'pending')\n",
      "(4, 'C003', '2024-03-05', 500.0, 'completed')\n",
      "(5, 'C002', '2024-03-10', 200.0, 'cancelled')\n",
      "(6, 'C001', '2024-03-15', 275.0, 'completed')\n"
     ]
    }
   ],
   "source": [
    "conn = sqlite3.connect('bronze_layer.db')\n",
    "cursor = conn.cursor()\n",
    "cursor.execute('''SELECT * FROM customer_order;''')\n",
    "# Fetch and print all the results\n",
    "rows = cursor.fetchall()\n",
    "\n",
    "# Check if there are results and display them\n",
    "if rows:\n",
    "    for row in rows:\n",
    "        print(row)\n",
    "else:\n",
    "    print(\"No data found.\")\n",
    "conn.close()\n"
   ]
  },
  {
   "cell_type": "markdown",
   "id": "d74cd5b8-b960-40f5-8a03-651c1b994269",
   "metadata": {},
   "source": [
    "# Silver Layer"
   ]
  },
  {
   "cell_type": "code",
   "execution_count": 30,
   "id": "27972087-dd26-487a-871e-94faf6d22449",
   "metadata": {},
   "outputs": [],
   "source": [
    "# Connect to the Bronze layer to read raw data\n",
    "conn_bronze = sqlite3.connect('bronze_layer.db')\n",
    "df_bronze = pd.read_sql_query(\"SELECT * FROM customer_order\", conn_bronze)\n",
    "conn_bronze.close()\n",
    "\n",
    "# Step 2.1: Data Cleaning\n",
    "# Remove duplicates\n",
    "df_silver = df_bronze.drop_duplicates()\n",
    "\n",
    "# Convert order_date to datetime format\n",
    "# Use .loc to avoid SettingWithCopyWarning and ensure safe modification\n",
    "df_silver = df_silver.copy()  # Ensure it's a copy, not a view\n",
    "df_silver['order_date'] = pd.to_datetime(df_silver['order_date'])\n",
    "\n",
    "# Step 2.2: Filtering data - Keep only completed and pending orders\n",
    "df_silver = df_silver[df_silver['status'].isin(['completed', 'pending'])]\n",
    "\n",
    "# Step 2.3: Save the cleaned data to the Silver layer\n",
    "conn_silver = sqlite3.connect('silver_layer.db')\n",
    "df_silver.to_sql('customer_order', conn_silver, if_exists='replace', index=False)\n",
    "conn_silver.close()\n"
   ]
  },
  {
   "cell_type": "code",
   "execution_count": 31,
   "id": "594f6d76-91fa-40d2-b7b4-d4584056343f",
   "metadata": {},
   "outputs": [
    {
     "name": "stdout",
     "output_type": "stream",
     "text": [
      "(1, 'C001', '2024-01-15 00:00:00', 250.5, 'completed')\n",
      "(2, 'C002', '2024-02-20 00:00:00', 145.0, 'completed')\n",
      "(3, 'C001', '2024-02-20 00:00:00', 300.0, 'pending')\n",
      "(4, 'C003', '2024-03-05 00:00:00', 500.0, 'completed')\n",
      "(6, 'C001', '2024-03-15 00:00:00', 275.0, 'completed')\n"
     ]
    }
   ],
   "source": [
    "conn_silver = sqlite3.connect('silver_layer.db')\n",
    "cursor = conn_silver.cursor()\n",
    "cursor.execute('''SELECT * FROM customer_order;''')\n",
    "# Fetch and print all the results\n",
    "rows = cursor.fetchall()\n",
    "\n",
    "# Check if there are results and display them\n",
    "if rows:\n",
    "    for row in rows:\n",
    "        print(row)\n",
    "else:\n",
    "    print(\"No data found.\")\n",
    "conn_silver.close()"
   ]
  },
  {
   "cell_type": "markdown",
   "id": "84af9760-efc7-4dab-94ea-0a7a1581cacb",
   "metadata": {},
   "source": [
    "# Gold Layer"
   ]
  },
  {
   "cell_type": "code",
   "execution_count": 32,
   "id": "26df4346-3c88-4595-a364-3a77a6a8c321",
   "metadata": {},
   "outputs": [
    {
     "name": "stdout",
     "output_type": "stream",
     "text": [
      "\n",
      "Gold Layer Data:\n",
      "  customer_id  total_spent  completed_orders\n",
      "0        C001        525.5                 2\n",
      "1        C002        145.0                 1\n",
      "2        C003        500.0                 1\n"
     ]
    }
   ],
   "source": [
    "# Connect to Silver layer database and read the data\n",
    "conn_silver = sqlite3.connect('silver_layer.db')\n",
    "df_silver = pd.read_sql_query('SELECT * FROM customer_order', conn_silver)\n",
    "\n",
    "# Filter the data to include only completed orders\n",
    "df_gold = df_silver[df_silver['status'] == 'completed']\n",
    "\n",
    "# Perform aggregation: total amount spent and count of completed orders per customer\n",
    "df_gold_summary = df_gold.groupby('customer_id').agg(\n",
    "    total_spent=('amount', 'sum'),\n",
    "    completed_orders=('order_id', 'count')\n",
    ").reset_index()\n",
    "\n",
    "# Create Gold layer database and save the aggregated data\n",
    "conn_gold = sqlite3.connect('gold_layer.db')\n",
    "df_gold_summary.to_sql('customer_summary', conn_gold, if_exists='replace', index=False)\n",
    "\n",
    "# Close both connections\n",
    "conn_silver.close()\n",
    "conn_gold.close()\n",
    "\n",
    "print(\"\\nGold Layer Data:\")\n",
    "print(df_gold_summary)\n"
   ]
  },
  {
   "cell_type": "code",
   "execution_count": null,
   "id": "16ed9ad6-17cd-4f0e-b1bb-952de6a8af93",
   "metadata": {},
   "outputs": [],
   "source": []
  }
 ],
 "metadata": {
  "kernelspec": {
   "display_name": "Python 3 (ipykernel)",
   "language": "python",
   "name": "python3"
  },
  "language_info": {
   "codemirror_mode": {
    "name": "ipython",
    "version": 3
   },
   "file_extension": ".py",
   "mimetype": "text/x-python",
   "name": "python",
   "nbconvert_exporter": "python",
   "pygments_lexer": "ipython3",
   "version": "3.12.3"
  }
 },
 "nbformat": 4,
 "nbformat_minor": 5
}
